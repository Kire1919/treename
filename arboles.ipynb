{
 "cells": [
  {
   "cell_type": "code",
   "execution_count": 3,
   "id": "1af7b34b",
   "metadata": {},
   "outputs": [],
   "source": [
    "import tkinter as tk\n",
    "\n",
    "# Función que genera el nombre de árbol a partir del nombre ingresado\n",
    "def generar_nombre_arbol():\n",
    "    arboles = [\"abedul\", \"abeto\", \"acacia\", \"acebo\", \"achicoria\", \"álamo\", \"árbol del pan\", \"arce\", \"avellano\", \"azufaifo\", \"baobab\", \"baño de oro\", \"bérbero\", \"brezo\", \"cactus\", \"caja\", \"calabaza\", \"camomila\", \"cedro\", \"cerezo\", \"cidro\", \"ciruela\", \"clavo\", \"coco\", \"corteza de roble\", \"corteza de sauce\", \"cresta de gallo\", \"crotón\", \"curuba\", \"dátil\", \"eucalipto\", \"falso pimentero\", \"fresno\", \"frutilla\", \"ginkgo\", \"girasol\", \"granado\", \"grosella espinosa\", \"guayaba\", \"henna\", \"hibisco\", \"higuera\", \"hinojo\", \"hisopo\", \"holly\", \"jacaranda\", \"jazmín\", \"jengibre\", \"jícara\", \"junco\", \"laurel\", \"lavanda\", \"lima\", \"lúpulo\", \"magnolia\", \"mandarina\", \"manzano\", \"maracuyá\", \"margarita\", \"menta\", \"mezquite\", \"mimosa\", \"mora\", \"moringa\", \"muérdago\", \"naranjo\", \"nogal\", \"olivo\", \"palma\", \"paraíso\", \"papaya\", \"peral\", \"perejil\", \"pino\", \"plátano\", \"plumeria\", \"pomelo\", \"poncirus\", \"porotillo\", \"quenepa\", \"quillay\", \"rábano\", \"rosa\", \"rosal silvestre\", \"sándalo\", \"sauce\", \"siempreviva\", \"spathodea\", \"tamarindo\", \"tangelo\", \"tejo\", \"temu\", \"tomate\", \"toronja\", \"uva\", \"vainilla\", \"vid\", \"yaca\", \"ylang ylang\", \"yuca\"]\n",
    "    nombre = entrada_nombre.get()\n",
    "    suma_ascii = sum(ord(c) for c in nombre)\n",
    "    indice_arbol = suma_ascii % len(arboles)\n",
    "    resultado_nombre_arbol.configure(text=\"Tu nombre de TRONCO es: \" + arboles[indice_arbol])\n",
    "\n",
    "# Crear la ventana principal y los widgets\n",
    "ventana = tk.Tk()\n",
    "ventana.title(\"Generador de nombres de árboles\")\n",
    "etiqueta_nombre = tk.Label(ventana, text=\"Ingresa tu nombre:\")\n",
    "entrada_nombre = tk.Entry(ventana)\n",
    "boton_generar = tk.Button(ventana, text=\"Generar nombre de árbol\", command=generar_nombre_arbol)\n",
    "resultado_nombre_arbol = tk.Label(ventana, text=\"\")\n",
    "\n",
    "# Ubicar los widgets en la ventana\n",
    "etiqueta_nombre.pack()\n",
    "entrada_nombre.pack()\n",
    "boton_generar.pack()\n",
    "resultado_nombre_arbol.pack()\n",
    "\n",
    "# Iniciar el bucle principal de la ventana\n",
    "ventana.mainloop()\n"
   ]
  },
  {
   "cell_type": "code",
   "execution_count": null,
   "id": "3158c492",
   "metadata": {},
   "outputs": [],
   "source": []
  }
 ],
 "metadata": {
  "kernelspec": {
   "display_name": "Python 3 (ipykernel)",
   "language": "python",
   "name": "python3"
  },
  "language_info": {
   "codemirror_mode": {
    "name": "ipython",
    "version": 3
   },
   "file_extension": ".py",
   "mimetype": "text/x-python",
   "name": "python",
   "nbconvert_exporter": "python",
   "pygments_lexer": "ipython3",
   "version": "3.11.3"
  }
 },
 "nbformat": 4,
 "nbformat_minor": 5
}
